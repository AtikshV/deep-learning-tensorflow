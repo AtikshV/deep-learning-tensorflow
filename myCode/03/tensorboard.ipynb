{
 "cells": [
  {
   "cell_type": "code",
   "execution_count": 1,
   "metadata": {},
   "outputs": [],
   "source": [
    "import pandas as pd\n",
    "import numpy as np"
   ]
  },
  {
   "cell_type": "code",
   "execution_count": 2,
   "metadata": {},
   "outputs": [],
   "source": [
    "df = pd.read_csv(r\"C:\\Users\\Atiksh\\OneDrive\\Desktop\\Coding\\AI\\deep-learning-tensorflow\\TF_2_Notebooks_and_Data\\DATA\\cancer_classification.csv\")"
   ]
  },
  {
   "cell_type": "code",
   "execution_count": 3,
   "metadata": {},
   "outputs": [],
   "source": [
    "X = df.drop('benign_0__mal_1',axis=1).values\n",
    "y = df['benign_0__mal_1'].values"
   ]
  },
  {
   "cell_type": "code",
   "execution_count": 4,
   "metadata": {},
   "outputs": [],
   "source": [
    "from sklearn.model_selection import train_test_split"
   ]
  },
  {
   "cell_type": "code",
   "execution_count": 5,
   "metadata": {},
   "outputs": [],
   "source": [
    "X_train, X_test, y_train, y_test = train_test_split(X,y,test_size=0.25,random_state=101)"
   ]
  },
  {
   "cell_type": "code",
   "execution_count": 6,
   "metadata": {},
   "outputs": [],
   "source": [
    "from sklearn.preprocessing import MinMaxScaler"
   ]
  },
  {
   "cell_type": "code",
   "execution_count": 7,
   "metadata": {},
   "outputs": [],
   "source": [
    "scaler = MinMaxScaler()"
   ]
  },
  {
   "cell_type": "code",
   "execution_count": 8,
   "metadata": {},
   "outputs": [
    {
     "data": {
      "text/html": [
       "<style>#sk-container-id-1 {color: black;background-color: white;}#sk-container-id-1 pre{padding: 0;}#sk-container-id-1 div.sk-toggleable {background-color: white;}#sk-container-id-1 label.sk-toggleable__label {cursor: pointer;display: block;width: 100%;margin-bottom: 0;padding: 0.3em;box-sizing: border-box;text-align: center;}#sk-container-id-1 label.sk-toggleable__label-arrow:before {content: \"▸\";float: left;margin-right: 0.25em;color: #696969;}#sk-container-id-1 label.sk-toggleable__label-arrow:hover:before {color: black;}#sk-container-id-1 div.sk-estimator:hover label.sk-toggleable__label-arrow:before {color: black;}#sk-container-id-1 div.sk-toggleable__content {max-height: 0;max-width: 0;overflow: hidden;text-align: left;background-color: #f0f8ff;}#sk-container-id-1 div.sk-toggleable__content pre {margin: 0.2em;color: black;border-radius: 0.25em;background-color: #f0f8ff;}#sk-container-id-1 input.sk-toggleable__control:checked~div.sk-toggleable__content {max-height: 200px;max-width: 100%;overflow: auto;}#sk-container-id-1 input.sk-toggleable__control:checked~label.sk-toggleable__label-arrow:before {content: \"▾\";}#sk-container-id-1 div.sk-estimator input.sk-toggleable__control:checked~label.sk-toggleable__label {background-color: #d4ebff;}#sk-container-id-1 div.sk-label input.sk-toggleable__control:checked~label.sk-toggleable__label {background-color: #d4ebff;}#sk-container-id-1 input.sk-hidden--visually {border: 0;clip: rect(1px 1px 1px 1px);clip: rect(1px, 1px, 1px, 1px);height: 1px;margin: -1px;overflow: hidden;padding: 0;position: absolute;width: 1px;}#sk-container-id-1 div.sk-estimator {font-family: monospace;background-color: #f0f8ff;border: 1px dotted black;border-radius: 0.25em;box-sizing: border-box;margin-bottom: 0.5em;}#sk-container-id-1 div.sk-estimator:hover {background-color: #d4ebff;}#sk-container-id-1 div.sk-parallel-item::after {content: \"\";width: 100%;border-bottom: 1px solid gray;flex-grow: 1;}#sk-container-id-1 div.sk-label:hover label.sk-toggleable__label {background-color: #d4ebff;}#sk-container-id-1 div.sk-serial::before {content: \"\";position: absolute;border-left: 1px solid gray;box-sizing: border-box;top: 0;bottom: 0;left: 50%;z-index: 0;}#sk-container-id-1 div.sk-serial {display: flex;flex-direction: column;align-items: center;background-color: white;padding-right: 0.2em;padding-left: 0.2em;position: relative;}#sk-container-id-1 div.sk-item {position: relative;z-index: 1;}#sk-container-id-1 div.sk-parallel {display: flex;align-items: stretch;justify-content: center;background-color: white;position: relative;}#sk-container-id-1 div.sk-item::before, #sk-container-id-1 div.sk-parallel-item::before {content: \"\";position: absolute;border-left: 1px solid gray;box-sizing: border-box;top: 0;bottom: 0;left: 50%;z-index: -1;}#sk-container-id-1 div.sk-parallel-item {display: flex;flex-direction: column;z-index: 1;position: relative;background-color: white;}#sk-container-id-1 div.sk-parallel-item:first-child::after {align-self: flex-end;width: 50%;}#sk-container-id-1 div.sk-parallel-item:last-child::after {align-self: flex-start;width: 50%;}#sk-container-id-1 div.sk-parallel-item:only-child::after {width: 0;}#sk-container-id-1 div.sk-dashed-wrapped {border: 1px dashed gray;margin: 0 0.4em 0.5em 0.4em;box-sizing: border-box;padding-bottom: 0.4em;background-color: white;}#sk-container-id-1 div.sk-label label {font-family: monospace;font-weight: bold;display: inline-block;line-height: 1.2em;}#sk-container-id-1 div.sk-label-container {text-align: center;}#sk-container-id-1 div.sk-container {/* jupyter's `normalize.less` sets `[hidden] { display: none; }` but bootstrap.min.css set `[hidden] { display: none !important; }` so we also need the `!important` here to be able to override the default hidden behavior on the sphinx rendered scikit-learn.org. See: https://github.com/scikit-learn/scikit-learn/issues/21755 */display: inline-block !important;position: relative;}#sk-container-id-1 div.sk-text-repr-fallback {display: none;}</style><div id=\"sk-container-id-1\" class=\"sk-top-container\"><div class=\"sk-text-repr-fallback\"><pre>MinMaxScaler()</pre><b>In a Jupyter environment, please rerun this cell to show the HTML representation or trust the notebook. <br />On GitHub, the HTML representation is unable to render, please try loading this page with nbviewer.org.</b></div><div class=\"sk-container\" hidden><div class=\"sk-item\"><div class=\"sk-estimator sk-toggleable\"><input class=\"sk-toggleable__control sk-hidden--visually\" id=\"sk-estimator-id-1\" type=\"checkbox\" checked><label for=\"sk-estimator-id-1\" class=\"sk-toggleable__label sk-toggleable__label-arrow\">MinMaxScaler</label><div class=\"sk-toggleable__content\"><pre>MinMaxScaler()</pre></div></div></div></div></div>"
      ],
      "text/plain": [
       "MinMaxScaler()"
      ]
     },
     "execution_count": 8,
     "metadata": {},
     "output_type": "execute_result"
    }
   ],
   "source": [
    "scaler.fit(X_train)"
   ]
  },
  {
   "cell_type": "code",
   "execution_count": 9,
   "metadata": {},
   "outputs": [],
   "source": [
    "X_train = scaler.transform(X_train)\n",
    "X_test = scaler.transform(X_test)"
   ]
  },
  {
   "cell_type": "code",
   "execution_count": 10,
   "metadata": {},
   "outputs": [],
   "source": [
    "import tensorflow as tf\n",
    "from tensorflow.keras.models import Sequential\n",
    "from tensorflow.keras.layers import Dense, Activation,Dropout"
   ]
  },
  {
   "cell_type": "code",
   "execution_count": 11,
   "metadata": {},
   "outputs": [],
   "source": [
    "from tensorflow.keras.callbacks import EarlyStopping,TensorBoard"
   ]
  },
  {
   "cell_type": "code",
   "execution_count": 13,
   "metadata": {},
   "outputs": [],
   "source": [
    "early_stop = EarlyStopping(monitor='val_loss', mode='min', verbose=1, patience=25)"
   ]
  },
  {
   "cell_type": "code",
   "execution_count": 15,
   "metadata": {},
   "outputs": [
    {
     "data": {
      "text/plain": [
       "'c:\\\\Users\\\\Atiksh\\\\OneDrive\\\\Desktop\\\\Coding\\\\AI\\\\deep-learning-tensorflow\\\\myCode\\\\03'"
      ]
     },
     "execution_count": 15,
     "metadata": {},
     "output_type": "execute_result"
    }
   ],
   "source": [
    "pwd"
   ]
  },
  {
   "cell_type": "code",
   "execution_count": 16,
   "metadata": {},
   "outputs": [],
   "source": [
    "from datetime import datetime"
   ]
  },
  {
   "cell_type": "code",
   "execution_count": 17,
   "metadata": {},
   "outputs": [
    {
     "data": {
      "text/plain": [
       "'2023-03-24--1726'"
      ]
     },
     "execution_count": 17,
     "metadata": {},
     "output_type": "execute_result"
    }
   ],
   "source": [
    "datetime.now().strftime(\"%Y-%m-%d--%H%M\")"
   ]
  },
  {
   "cell_type": "code",
   "execution_count": 18,
   "metadata": {},
   "outputs": [],
   "source": [
    "log_directory = \"logs//fit\""
   ]
  },
  {
   "cell_type": "code",
   "execution_count": 19,
   "metadata": {},
   "outputs": [],
   "source": [
    "board = TensorBoard(log_dir=log_directory, histogram_freq=1,write_graph=True, write_images=True, update_freq=\"epoch\", profile_batch=2, embeddings_freq=1)"
   ]
  },
  {
   "cell_type": "code",
   "execution_count": 21,
   "metadata": {},
   "outputs": [],
   "source": [
    "model = Sequential()\n",
    "model.add(Dense(units=30,activation='relu'))\n",
    "model.add(Dropout(0.5))\n",
    "model.add(Dense(units=15,activation='relu'))\n",
    "model.add(Dropout(0.5))\n",
    "model.add(Dense(units=1,activation='sigmoid'))\n",
    "model.compile(loss='binary_crossentropy', optimizer='adam')"
   ]
  },
  {
   "cell_type": "code",
   "execution_count": 22,
   "metadata": {},
   "outputs": [
    {
     "name": "stdout",
     "output_type": "stream",
     "text": [
      "Epoch 1/600\n",
      "14/14 [==============================] - 1s 38ms/step - loss: 0.6979 - val_loss: 0.6723\n",
      "Epoch 2/600\n",
      "14/14 [==============================] - 0s 9ms/step - loss: 0.6761 - val_loss: 0.6529\n",
      "Epoch 3/600\n",
      "14/14 [==============================] - 0s 9ms/step - loss: 0.6619 - val_loss: 0.6278\n",
      "Epoch 4/600\n",
      "14/14 [==============================] - 0s 9ms/step - loss: 0.6229 - val_loss: 0.6010\n",
      "Epoch 5/600\n",
      "14/14 [==============================] - 0s 11ms/step - loss: 0.6128 - val_loss: 0.5769\n",
      "Epoch 6/600\n",
      "14/14 [==============================] - 0s 9ms/step - loss: 0.6105 - val_loss: 0.5568\n",
      "Epoch 7/600\n",
      "14/14 [==============================] - 0s 9ms/step - loss: 0.5867 - val_loss: 0.5372\n",
      "Epoch 8/600\n",
      "14/14 [==============================] - 0s 9ms/step - loss: 0.5593 - val_loss: 0.5159\n",
      "Epoch 9/600\n",
      "14/14 [==============================] - 0s 9ms/step - loss: 0.5388 - val_loss: 0.4902\n",
      "Epoch 10/600\n",
      "14/14 [==============================] - 0s 10ms/step - loss: 0.5298 - val_loss: 0.4665\n",
      "Epoch 11/600\n",
      "14/14 [==============================] - 0s 17ms/step - loss: 0.5273 - val_loss: 0.4471\n",
      "Epoch 12/600\n",
      "14/14 [==============================] - 0s 13ms/step - loss: 0.4903 - val_loss: 0.4303\n",
      "Epoch 13/600\n",
      "14/14 [==============================] - 0s 11ms/step - loss: 0.4605 - val_loss: 0.3967\n",
      "Epoch 14/600\n",
      "14/14 [==============================] - 0s 11ms/step - loss: 0.4615 - val_loss: 0.3726\n",
      "Epoch 15/600\n",
      "14/14 [==============================] - 0s 12ms/step - loss: 0.4524 - val_loss: 0.3509\n",
      "Epoch 16/600\n",
      "14/14 [==============================] - 0s 9ms/step - loss: 0.4391 - val_loss: 0.3396\n",
      "Epoch 17/600\n",
      "14/14 [==============================] - 0s 9ms/step - loss: 0.3959 - val_loss: 0.3183\n",
      "Epoch 18/600\n",
      "14/14 [==============================] - 0s 10ms/step - loss: 0.3810 - val_loss: 0.2995\n",
      "Epoch 19/600\n",
      "14/14 [==============================] - 0s 15ms/step - loss: 0.3840 - val_loss: 0.2860\n",
      "Epoch 20/600\n",
      "14/14 [==============================] - 0s 13ms/step - loss: 0.3849 - val_loss: 0.2773\n",
      "Epoch 21/600\n",
      "14/14 [==============================] - 0s 10ms/step - loss: 0.3452 - val_loss: 0.2723\n",
      "Epoch 22/600\n",
      "14/14 [==============================] - 0s 8ms/step - loss: 0.3496 - val_loss: 0.2533\n",
      "Epoch 23/600\n",
      "14/14 [==============================] - 0s 9ms/step - loss: 0.3620 - val_loss: 0.2522\n",
      "Epoch 24/600\n",
      "14/14 [==============================] - 0s 10ms/step - loss: 0.3403 - val_loss: 0.2368\n",
      "Epoch 25/600\n",
      "14/14 [==============================] - 0s 12ms/step - loss: 0.3389 - val_loss: 0.2281\n",
      "Epoch 26/600\n",
      "14/14 [==============================] - 0s 11ms/step - loss: 0.3330 - val_loss: 0.2243\n",
      "Epoch 27/600\n",
      "14/14 [==============================] - 0s 13ms/step - loss: 0.3419 - val_loss: 0.2170\n",
      "Epoch 28/600\n",
      "14/14 [==============================] - 0s 9ms/step - loss: 0.2907 - val_loss: 0.2111\n",
      "Epoch 29/600\n",
      "14/14 [==============================] - 0s 9ms/step - loss: 0.3013 - val_loss: 0.2121\n",
      "Epoch 30/600\n",
      "14/14 [==============================] - 0s 9ms/step - loss: 0.2685 - val_loss: 0.1909\n",
      "Epoch 31/600\n",
      "14/14 [==============================] - 0s 9ms/step - loss: 0.2754 - val_loss: 0.1818\n",
      "Epoch 32/600\n",
      "14/14 [==============================] - 0s 11ms/step - loss: 0.2793 - val_loss: 0.1787\n",
      "Epoch 33/600\n",
      "14/14 [==============================] - 0s 10ms/step - loss: 0.2842 - val_loss: 0.1693\n",
      "Epoch 34/600\n",
      "14/14 [==============================] - 0s 10ms/step - loss: 0.2666 - val_loss: 0.1758\n",
      "Epoch 35/600\n",
      "14/14 [==============================] - 0s 10ms/step - loss: 0.2657 - val_loss: 0.1673\n",
      "Epoch 36/600\n",
      "14/14 [==============================] - 0s 10ms/step - loss: 0.2440 - val_loss: 0.1594\n",
      "Epoch 37/600\n",
      "14/14 [==============================] - 0s 10ms/step - loss: 0.2297 - val_loss: 0.1554\n",
      "Epoch 38/600\n",
      "14/14 [==============================] - 0s 10ms/step - loss: 0.2512 - val_loss: 0.1544\n",
      "Epoch 39/600\n",
      "14/14 [==============================] - 0s 9ms/step - loss: 0.2328 - val_loss: 0.1500\n",
      "Epoch 40/600\n",
      "14/14 [==============================] - 0s 10ms/step - loss: 0.2159 - val_loss: 0.1478\n",
      "Epoch 41/600\n",
      "14/14 [==============================] - 0s 9ms/step - loss: 0.2174 - val_loss: 0.1488\n",
      "Epoch 42/600\n",
      "14/14 [==============================] - 0s 11ms/step - loss: 0.2302 - val_loss: 0.1415\n",
      "Epoch 43/600\n",
      "14/14 [==============================] - 0s 11ms/step - loss: 0.2174 - val_loss: 0.1397\n",
      "Epoch 44/600\n",
      "14/14 [==============================] - 0s 10ms/step - loss: 0.2288 - val_loss: 0.1407\n",
      "Epoch 45/600\n",
      "14/14 [==============================] - 0s 10ms/step - loss: 0.1978 - val_loss: 0.1405\n",
      "Epoch 46/600\n",
      "14/14 [==============================] - 0s 9ms/step - loss: 0.2080 - val_loss: 0.1415\n",
      "Epoch 47/600\n",
      "14/14 [==============================] - 0s 10ms/step - loss: 0.1705 - val_loss: 0.1373\n",
      "Epoch 48/600\n",
      "14/14 [==============================] - 0s 13ms/step - loss: 0.2124 - val_loss: 0.1316\n",
      "Epoch 49/600\n",
      "14/14 [==============================] - 0s 9ms/step - loss: 0.1691 - val_loss: 0.1312\n",
      "Epoch 50/600\n",
      "14/14 [==============================] - 0s 8ms/step - loss: 0.1796 - val_loss: 0.1280\n",
      "Epoch 51/600\n",
      "14/14 [==============================] - 0s 9ms/step - loss: 0.1891 - val_loss: 0.1356\n",
      "Epoch 52/600\n",
      "14/14 [==============================] - 0s 8ms/step - loss: 0.1640 - val_loss: 0.1264\n",
      "Epoch 53/600\n",
      "14/14 [==============================] - 0s 10ms/step - loss: 0.1588 - val_loss: 0.1241\n",
      "Epoch 54/600\n",
      "14/14 [==============================] - 0s 10ms/step - loss: 0.2028 - val_loss: 0.1322\n",
      "Epoch 55/600\n",
      "14/14 [==============================] - 0s 9ms/step - loss: 0.1692 - val_loss: 0.1251\n",
      "Epoch 56/600\n",
      "14/14 [==============================] - 0s 15ms/step - loss: 0.1652 - val_loss: 0.1244\n",
      "Epoch 57/600\n",
      "14/14 [==============================] - 0s 10ms/step - loss: 0.1680 - val_loss: 0.1340\n",
      "Epoch 58/600\n",
      "14/14 [==============================] - 0s 9ms/step - loss: 0.1633 - val_loss: 0.1218\n",
      "Epoch 59/600\n",
      "14/14 [==============================] - 0s 9ms/step - loss: 0.1769 - val_loss: 0.1220\n",
      "Epoch 60/600\n",
      "14/14 [==============================] - 0s 10ms/step - loss: 0.1673 - val_loss: 0.1293\n",
      "Epoch 61/600\n",
      "14/14 [==============================] - 0s 10ms/step - loss: 0.1659 - val_loss: 0.1205\n",
      "Epoch 62/600\n",
      "14/14 [==============================] - 0s 9ms/step - loss: 0.1630 - val_loss: 0.1180\n",
      "Epoch 63/600\n",
      "14/14 [==============================] - 0s 10ms/step - loss: 0.1583 - val_loss: 0.1227\n",
      "Epoch 64/600\n",
      "14/14 [==============================] - 0s 9ms/step - loss: 0.1437 - val_loss: 0.1156\n",
      "Epoch 65/600\n",
      "14/14 [==============================] - 0s 9ms/step - loss: 0.1456 - val_loss: 0.1144\n",
      "Epoch 66/600\n",
      "14/14 [==============================] - 0s 9ms/step - loss: 0.1697 - val_loss: 0.1156\n",
      "Epoch 67/600\n",
      "14/14 [==============================] - 0s 9ms/step - loss: 0.1677 - val_loss: 0.1262\n",
      "Epoch 68/600\n",
      "14/14 [==============================] - 0s 9ms/step - loss: 0.1298 - val_loss: 0.1187\n",
      "Epoch 69/600\n",
      "14/14 [==============================] - 0s 10ms/step - loss: 0.1379 - val_loss: 0.1199\n",
      "Epoch 70/600\n",
      "14/14 [==============================] - 0s 11ms/step - loss: 0.1360 - val_loss: 0.1217\n",
      "Epoch 71/600\n",
      "14/14 [==============================] - 0s 10ms/step - loss: 0.1492 - val_loss: 0.1182\n",
      "Epoch 72/600\n",
      "14/14 [==============================] - 0s 9ms/step - loss: 0.1285 - val_loss: 0.1122\n",
      "Epoch 73/600\n",
      "14/14 [==============================] - 0s 10ms/step - loss: 0.1260 - val_loss: 0.1150\n",
      "Epoch 74/600\n",
      "14/14 [==============================] - 0s 9ms/step - loss: 0.1485 - val_loss: 0.1112\n",
      "Epoch 75/600\n",
      "14/14 [==============================] - 0s 10ms/step - loss: 0.1498 - val_loss: 0.1158\n",
      "Epoch 76/600\n",
      "14/14 [==============================] - 0s 9ms/step - loss: 0.1327 - val_loss: 0.1161\n",
      "Epoch 77/600\n",
      "14/14 [==============================] - 0s 10ms/step - loss: 0.1320 - val_loss: 0.1133\n",
      "Epoch 78/600\n",
      "14/14 [==============================] - 0s 9ms/step - loss: 0.1217 - val_loss: 0.1133\n",
      "Epoch 79/600\n",
      "14/14 [==============================] - 0s 11ms/step - loss: 0.1350 - val_loss: 0.1136\n",
      "Epoch 80/600\n",
      "14/14 [==============================] - 0s 10ms/step - loss: 0.1380 - val_loss: 0.1143\n",
      "Epoch 81/600\n",
      "14/14 [==============================] - 0s 10ms/step - loss: 0.1242 - val_loss: 0.1090\n",
      "Epoch 82/600\n",
      "14/14 [==============================] - 0s 10ms/step - loss: 0.1405 - val_loss: 0.1161\n",
      "Epoch 83/600\n",
      "14/14 [==============================] - 0s 9ms/step - loss: 0.1259 - val_loss: 0.1102\n",
      "Epoch 84/600\n",
      "14/14 [==============================] - 0s 12ms/step - loss: 0.1087 - val_loss: 0.1139\n",
      "Epoch 85/600\n",
      "14/14 [==============================] - 0s 9ms/step - loss: 0.1401 - val_loss: 0.1280\n",
      "Epoch 86/600\n",
      "14/14 [==============================] - 0s 11ms/step - loss: 0.1342 - val_loss: 0.1064\n",
      "Epoch 87/600\n",
      "14/14 [==============================] - 0s 11ms/step - loss: 0.1155 - val_loss: 0.1146\n",
      "Epoch 88/600\n",
      "14/14 [==============================] - 0s 9ms/step - loss: 0.1150 - val_loss: 0.1076\n",
      "Epoch 89/600\n",
      "14/14 [==============================] - 0s 10ms/step - loss: 0.1207 - val_loss: 0.1175\n",
      "Epoch 90/600\n",
      "14/14 [==============================] - 0s 9ms/step - loss: 0.1099 - val_loss: 0.1110\n",
      "Epoch 91/600\n",
      "14/14 [==============================] - 0s 9ms/step - loss: 0.1000 - val_loss: 0.1137\n",
      "Epoch 92/600\n",
      "14/14 [==============================] - 0s 9ms/step - loss: 0.1379 - val_loss: 0.1155\n",
      "Epoch 93/600\n",
      "14/14 [==============================] - 0s 12ms/step - loss: 0.0970 - val_loss: 0.1109\n",
      "Epoch 94/600\n",
      "14/14 [==============================] - 0s 10ms/step - loss: 0.1188 - val_loss: 0.1135\n",
      "Epoch 95/600\n",
      "14/14 [==============================] - 0s 10ms/step - loss: 0.1073 - val_loss: 0.1081\n",
      "Epoch 96/600\n",
      "14/14 [==============================] - 0s 15ms/step - loss: 0.1088 - val_loss: 0.1173\n",
      "Epoch 97/600\n",
      "14/14 [==============================] - 0s 11ms/step - loss: 0.0958 - val_loss: 0.1098\n",
      "Epoch 98/600\n",
      "14/14 [==============================] - 0s 9ms/step - loss: 0.0995 - val_loss: 0.1102\n",
      "Epoch 99/600\n",
      "14/14 [==============================] - 0s 10ms/step - loss: 0.1203 - val_loss: 0.1092\n",
      "Epoch 100/600\n",
      "14/14 [==============================] - 0s 10ms/step - loss: 0.1095 - val_loss: 0.1088\n",
      "Epoch 101/600\n",
      "14/14 [==============================] - 0s 9ms/step - loss: 0.1261 - val_loss: 0.1122\n",
      "Epoch 102/600\n",
      "14/14 [==============================] - 0s 9ms/step - loss: 0.1168 - val_loss: 0.1228\n",
      "Epoch 103/600\n",
      "14/14 [==============================] - 0s 11ms/step - loss: 0.1103 - val_loss: 0.1130\n",
      "Epoch 104/600\n",
      "14/14 [==============================] - 0s 11ms/step - loss: 0.1058 - val_loss: 0.1118\n",
      "Epoch 105/600\n",
      "14/14 [==============================] - 0s 11ms/step - loss: 0.1022 - val_loss: 0.1177\n",
      "Epoch 106/600\n",
      "14/14 [==============================] - 0s 10ms/step - loss: 0.1161 - val_loss: 0.1135\n",
      "Epoch 107/600\n",
      "14/14 [==============================] - 0s 10ms/step - loss: 0.1002 - val_loss: 0.1215\n",
      "Epoch 108/600\n",
      "14/14 [==============================] - 0s 11ms/step - loss: 0.1191 - val_loss: 0.1103\n",
      "Epoch 109/600\n",
      "14/14 [==============================] - 0s 11ms/step - loss: 0.0978 - val_loss: 0.1095\n",
      "Epoch 110/600\n",
      "14/14 [==============================] - 0s 13ms/step - loss: 0.1163 - val_loss: 0.1148\n",
      "Epoch 111/600\n",
      "14/14 [==============================] - 0s 10ms/step - loss: 0.1010 - val_loss: 0.1142\n",
      "Epoch 111: early stopping\n"
     ]
    },
    {
     "data": {
      "text/plain": [
       "<keras.callbacks.History at 0x25d0f1ef730>"
      ]
     },
     "execution_count": 22,
     "metadata": {},
     "output_type": "execute_result"
    }
   ],
   "source": [
    "model.fit(x=X_train, \n",
    "          y=y_train, \n",
    "          epochs=600,\n",
    "          validation_data=(X_test, y_test), verbose=1,\n",
    "          callbacks=[early_stop,board]\n",
    "          )"
   ]
  },
  {
   "cell_type": "code",
   "execution_count": 23,
   "metadata": {},
   "outputs": [
    {
     "name": "stdout",
     "output_type": "stream",
     "text": [
      "logs//fit\n"
     ]
    }
   ],
   "source": [
    "print(log_directory)"
   ]
  },
  {
   "cell_type": "code",
   "execution_count": 24,
   "metadata": {},
   "outputs": [
    {
     "data": {
      "text/plain": [
       "'c:\\\\Users\\\\Atiksh\\\\OneDrive\\\\Desktop\\\\Coding\\\\AI\\\\deep-learning-tensorflow\\\\myCode\\\\03'"
      ]
     },
     "execution_count": 24,
     "metadata": {},
     "output_type": "execute_result"
    }
   ],
   "source": [
    "pwd"
   ]
  },
  {
   "cell_type": "code",
   "execution_count": null,
   "metadata": {},
   "outputs": [],
   "source": []
  }
 ],
 "metadata": {
  "kernelspec": {
   "display_name": "tensor",
   "language": "python",
   "name": "python3"
  },
  "language_info": {
   "codemirror_mode": {
    "name": "ipython",
    "version": 3
   },
   "file_extension": ".py",
   "mimetype": "text/x-python",
   "name": "python",
   "nbconvert_exporter": "python",
   "pygments_lexer": "ipython3",
   "version": "3.10.9"
  },
  "orig_nbformat": 4
 },
 "nbformat": 4,
 "nbformat_minor": 2
}
